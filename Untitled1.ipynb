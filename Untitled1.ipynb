{
  "nbformat": 4,
  "nbformat_minor": 0,
  "metadata": {
    "colab": {
      "provenance": [],
      "authorship_tag": "ABX9TyNcJwlH1gLv656HE+TWT0DF",
      "include_colab_link": true
    },
    "kernelspec": {
      "name": "python3",
      "display_name": "Python 3"
    },
    "language_info": {
      "name": "python"
    }
  },
  "cells": [
    {
      "cell_type": "markdown",
      "metadata": {
        "id": "view-in-github",
        "colab_type": "text"
      },
      "source": [
        "<a href=\"https://colab.research.google.com/github/edgarcito200/Mates-exercicis/blob/main/Untitled1.ipynb\" target=\"_parent\"><img src=\"https://colab.research.google.com/assets/colab-badge.svg\" alt=\"Open In Colab\"/></a>"
      ]
    },
    {
      "cell_type": "markdown",
      "source": [
        "4 variables que se sumin entre elles i fes la mitjana"
      ],
      "metadata": {
        "id": "Y3AX6fAsSPgz"
      }
    },
    {
      "cell_type": "code",
      "execution_count": null,
      "metadata": {
        "colab": {
          "base_uri": "https://localhost:8080/"
        },
        "id": "H_fqTpjGSEw1",
        "outputId": "e5cafc4d-7399-49aa-9377-a0a7a4614d38"
      },
      "outputs": [
        {
          "output_type": "stream",
          "name": "stdout",
          "text": [
            "Introduce el primer número: 33\n",
            "Introduce el segundo número: 33\n",
            "Introduce el tercer número: 33\n",
            "Introduce el cuarto número: 33\n",
            "La suma de las variables es: 132.0\n",
            "La media de las variables es: 33.0\n"
          ]
        }
      ],
      "source": [
        "a = float(input(\"Introduce el primer número: \"))\n",
        "b = float(input(\"Introduce el segundo número: \"))\n",
        "c = float(input(\"Introduce el tercer número: \"))\n",
        "d = float(input(\"Introduce el cuarto número: \"))\n",
        "suma = a + b + c + d\n",
        "media = suma / 4\n",
        "print(f\"La suma de las variables es: {suma}\")\n",
        "print(f\"La media de las variables es: {media}\")"
      ]
    },
    {
      "cell_type": "markdown",
      "source": [
        "1. fes una variable que pregunti el sou d’una persona, i si el seu sou és superior als 2000€, cal que es mostri un misatge a la pantalla que digui “que a de pagar un 15% IRPF”\n"
      ],
      "metadata": {
        "id": "tElknqEKYYxl"
      }
    },
    {
      "cell_type": "code",
      "source": [
        "sou = float(input(\"Introdueix el teu sou mensual en euros: \"))\n",
        "if sou > 2000:\n",
        "    print(\"Has de pagar un 15% d'IRPF.\")"
      ],
      "metadata": {
        "id": "7G8dnSp_XJoo",
        "colab": {
          "base_uri": "https://localhost:8080/"
        },
        "outputId": "c74a8894-2002-40e1-9aab-5d9ee3266c13"
      },
      "execution_count": 8,
      "outputs": [
        {
          "output_type": "stream",
          "name": "stdout",
          "text": [
            "Introdueix el teu sou mensual en euros: 2333\n",
            "Has de pagar un 15% d'IRPF.\n"
          ]
        }
      ]
    },
    {
      "cell_type": "markdown",
      "source": [
        " 2. heu de posar dues variables amb valors diferents i cal que surti a la pantalla el que es superior\n"
      ],
      "metadata": {
        "id": "e54WagTfYdWe"
      }
    },
    {
      "cell_type": "code",
      "source": [
        "valor1 = 75\n",
        "valor2 = 120\n",
        "if valor1 > valor2:\n",
        "    print(f\"El valor superior és {valor1}\")\n",
        "elif valor2 > valor1:\n",
        "    print(f\"El valor superior és {valor2}\")\n",
        "else: valor1 > valor2\n",
        "    print(\"Els dos valors són iguals\")"
      ],
      "metadata": {
        "colab": {
          "base_uri": "https://localhost:8080/",
          "height": 106
        },
        "id": "zkprF8IbYbuV",
        "outputId": "e16d44b5-7dfd-43dc-a129-aafd95a5d120"
      },
      "execution_count": 11,
      "outputs": [
        {
          "output_type": "error",
          "ename": "IndentationError",
          "evalue": "unexpected indent (<ipython-input-11-47f141190e75>, line 8)",
          "traceback": [
            "\u001b[0;36m  File \u001b[0;32m\"<ipython-input-11-47f141190e75>\"\u001b[0;36m, line \u001b[0;32m8\u001b[0m\n\u001b[0;31m    print(\"Els dos valors són iguals\")\u001b[0m\n\u001b[0m    ^\u001b[0m\n\u001b[0;31mIndentationError\u001b[0m\u001b[0;31m:\u001b[0m unexpected indent\n"
          ]
        }
      ]
    },
    {
      "cell_type": "markdown",
      "source": [
        "3. imaginemos que teniu una nómina de 2950€ cal que feu que pagui a l’estat un 20% d’impostos. Un cop hagi fet això, cal que pagueu les factures del gas (70€) i l’aigua (55€). A banda, cal pagar el pis  (1000€) cuants diners le quedaran a aquesta persona per"
      ],
      "metadata": {
        "id": "A17asNufYtwI"
      }
    },
    {
      "cell_type": "code",
      "source": [
        "nomina = 2950\n",
        "impostos = nomina * 0.20\n",
        "nomina_despres_impostos = nomina - impostos\n",
        "factura_gas = 70\n",
        "factura_aigua = 55\n",
        "lloguer_pis = 1000\n",
        "diners_restants = nomina_despres_impostos - factura_gas - factura_aigua - lloguer_pis\n",
        "print(f\"Nòmina inicial: {nomina}€\")\n",
        "print(f\"Impostos pagats (20%): {impostos}€\")\n",
        "print(f\"Despeses:\")\n",
        "print(f\"  - Gas: {factura_gas}€\")\n",
        "print(f\"  - Aigua: {factura_aigua}€\")\n",
        "print(f\"  - Lloguer del pis: {lloguer_pis}€\")\n",
        "print(f\"Diners restants: {diners_restants}€\")"
      ],
      "metadata": {
        "colab": {
          "base_uri": "https://localhost:8080/"
        },
        "id": "VbDG3zvkYuMm",
        "outputId": "04a77040-276e-4b3c-f8e2-0aec79fd286a"
      },
      "execution_count": 10,
      "outputs": [
        {
          "output_type": "stream",
          "name": "stdout",
          "text": [
            "Nòmina inicial: 2950€\n",
            "Impostos pagats (20%): 590.0€\n",
            "Despeses:\n",
            "  - Gas: 70€\n",
            "  - Aigua: 55€\n",
            "  - Lloguer del pis: 1000€\n",
            "Diners restants: 1235.0€\n"
          ]
        }
      ]
    }
  ]
}