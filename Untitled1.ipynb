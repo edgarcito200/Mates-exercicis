{
  "nbformat": 4,
  "nbformat_minor": 0,
  "metadata": {
    "colab": {
      "provenance": [],
      "authorship_tag": "ABX9TyPgcW9R8DYA7QWgctWuByQf",
      "include_colab_link": true
    },
    "kernelspec": {
      "name": "python3",
      "display_name": "Python 3"
    },
    "language_info": {
      "name": "python"
    }
  },
  "cells": [
    {
      "cell_type": "markdown",
      "metadata": {
        "id": "view-in-github",
        "colab_type": "text"
      },
      "source": [
        "<a href=\"https://colab.research.google.com/github/edgarcito200/Mates-exercicis/blob/main/Untitled1.ipynb\" target=\"_parent\"><img src=\"https://colab.research.google.com/assets/colab-badge.svg\" alt=\"Open In Colab\"/></a>"
      ]
    },
    {
      "cell_type": "markdown",
      "source": [
        "4 variables que se sumin entre elles i fes la mitjana"
      ],
      "metadata": {
        "id": "Y3AX6fAsSPgz"
      }
    },
    {
      "cell_type": "code",
      "execution_count": 6,
      "metadata": {
        "colab": {
          "base_uri": "https://localhost:8080/"
        },
        "id": "H_fqTpjGSEw1",
        "outputId": "e5cafc4d-7399-49aa-9377-a0a7a4614d38"
      },
      "outputs": [
        {
          "output_type": "stream",
          "name": "stdout",
          "text": [
            "Introduce el primer número: 33\n",
            "Introduce el segundo número: 33\n",
            "Introduce el tercer número: 33\n",
            "Introduce el cuarto número: 33\n",
            "La suma de las variables es: 132.0\n",
            "La media de las variables es: 33.0\n"
          ]
        }
      ],
      "source": [
        "a = float(input(\"Introduce el primer número: \"))\n",
        "b = float(input(\"Introduce el segundo número: \"))\n",
        "c = float(input(\"Introduce el tercer número: \"))\n",
        "d = float(input(\"Introduce el cuarto número: \"))\n",
        "suma = a + b + c + d\n",
        "media = suma / 4\n",
        "print(f\"La suma de las variables es: {suma}\")\n",
        "print(f\"La media de las variables es: {media}\")"
      ]
    },
    {
      "cell_type": "code",
      "source": [],
      "metadata": {
        "id": "7G8dnSp_XJoo"
      },
      "execution_count": null,
      "outputs": []
    }
  ]
}